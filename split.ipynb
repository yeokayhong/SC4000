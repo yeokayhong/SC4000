{
 "cells": [
  {
   "cell_type": "code",
   "execution_count": 12,
   "metadata": {},
   "outputs": [],
   "source": [
    "import shutil\n",
    "import random\n",
    "import os"
   ]
  },
  {
   "cell_type": "code",
   "execution_count": 13,
   "metadata": {},
   "outputs": [],
   "source": [
    "source_directory = 'data/mapped'\n",
    "train_directory = 'data/train'\n",
    "test_directory = 'data/test'"
   ]
  },
  {
   "cell_type": "code",
   "execution_count": 14,
   "metadata": {},
   "outputs": [],
   "source": [
    "shutil.rmtree(train_directory, ignore_errors=True)\n",
    "shutil.rmtree(test_directory, ignore_errors=True)"
   ]
  },
  {
   "cell_type": "code",
   "execution_count": 15,
   "metadata": {},
   "outputs": [],
   "source": [
    "for label in os.listdir(source_directory):\n",
    "    label_directory = os.path.join(source_directory, label)\n",
    "    label_train_directory = os.path.join(train_directory, label)\n",
    "    label_test_directory = os.path.join(test_directory, label)\n",
    "\n",
    "    os.makedirs(label_train_directory, exist_ok=True)\n",
    "    os.makedirs(label_test_directory, exist_ok=True)\n",
    "\n",
    "    images = os.listdir(label_directory)\n",
    "    random.shuffle(images)\n",
    "\n",
    "    for i, image in enumerate(images):\n",
    "        if i < len(images) * 0.9:\n",
    "            shutil.move(os.path.join(label_directory, image), label_train_directory)\n",
    "        else:\n",
    "            shutil.move(os.path.join(label_directory, image), label_test_directory)"
   ]
  }
 ],
 "metadata": {
  "kernelspec": {
   "display_name": "SC4000",
   "language": "python",
   "name": "python3"
  },
  "language_info": {
   "codemirror_mode": {
    "name": "ipython",
    "version": 3
   },
   "file_extension": ".py",
   "mimetype": "text/x-python",
   "name": "python",
   "nbconvert_exporter": "python",
   "pygments_lexer": "ipython3",
   "version": "3.10.14"
  }
 },
 "nbformat": 4,
 "nbformat_minor": 2
}
