{
 "cells": [
  {
   "cell_type": "code",
   "execution_count": 15,
   "metadata": {},
   "outputs": [],
   "source": [
    "import shutil\n",
    "import json\n",
    "import csv\n",
    "import os"
   ]
  },
  {
   "cell_type": "code",
   "execution_count": 16,
   "metadata": {},
   "outputs": [],
   "source": [
    "images_directory = 'data/source/images'\n",
    "labels_file = 'data/source/labels.csv'\n",
    "label_mapping_file = 'data/source/label_map.json'\n",
    "destination_directory = 'data/mapped'"
   ]
  },
  {
   "cell_type": "code",
   "execution_count": 17,
   "metadata": {},
   "outputs": [],
   "source": [
    "shutil.rmtree(destination_directory)"
   ]
  },
  {
   "cell_type": "code",
   "execution_count": 18,
   "metadata": {},
   "outputs": [],
   "source": [
    "with open(labels_file, 'r') as label_file:\n",
    "    reader = csv.reader(label_file)\n",
    "    next(reader)\n",
    "    for row in reader:\n",
    "        image_name, label = row\n",
    "        image_path = f'{images_directory}/{image_name}'\n",
    "        destination_path = f'{destination_directory}/{label}/{image_name}'\n",
    "        if not os.path.exists(image_path):\n",
    "            continue\n",
    "\n",
    "        os.makedirs(os.path.dirname(destination_path), exist_ok=True)\n",
    "        shutil.copyfile(image_path, destination_path)"
   ]
  },
  {
   "cell_type": "code",
   "execution_count": 19,
   "metadata": {},
   "outputs": [],
   "source": [
    "with open(label_mapping_file, 'r') as label_mapping_file:\n",
    "    label_mapping = json.load(label_mapping_file)\n",
    "\n",
    "    for label in label_mapping:\n",
    "        if not os.path.exists(f'{destination_directory}/{label}'):\n",
    "            continue\n",
    "        os.rename(f'{destination_directory}/{label}', f'{destination_directory}/{label_mapping[label]}')"
   ]
  }
 ],
 "metadata": {
  "kernelspec": {
   "display_name": "SC4000",
   "language": "python",
   "name": "python3"
  },
  "language_info": {
   "codemirror_mode": {
    "name": "ipython",
    "version": 3
   },
   "file_extension": ".py",
   "mimetype": "text/x-python",
   "name": "python",
   "nbconvert_exporter": "python",
   "pygments_lexer": "ipython3",
   "version": "3.10.14"
  }
 },
 "nbformat": 4,
 "nbformat_minor": 2
}
