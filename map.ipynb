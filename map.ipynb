{
 "cells": [
  {
   "cell_type": "code",
   "execution_count": 2,
   "metadata": {},
   "outputs": [],
   "source": [
    "import shutil\n",
    "import csv\n",
    "import os"
   ]
  },
  {
   "cell_type": "code",
   "execution_count": 3,
   "metadata": {},
   "outputs": [],
   "source": [
    "images_directory = 'data/source/images'\n",
    "labels_file = 'data/source/labels.csv'\n",
    "destination_directory = 'data/mapped'"
   ]
  },
  {
   "cell_type": "code",
   "execution_count": 5,
   "metadata": {},
   "outputs": [],
   "source": [
    "shutil.rmtree(destination_directory, ignore_errors=True)"
   ]
  },
  {
   "cell_type": "code",
   "execution_count": 7,
   "metadata": {},
   "outputs": [],
   "source": [
    "with open(labels_file, 'r') as label_file:\n",
    "    reader = csv.reader(label_file)\n",
    "    next(reader)\n",
    "    for row in reader:\n",
    "        image_name, _, label, _ = row\n",
    "        image_path = f'{images_directory}/{image_name}'\n",
    "        destination_path = f'{destination_directory}/{label}/{image_name}'\n",
    "        if not os.path.exists(image_path):\n",
    "            continue\n",
    "\n",
    "        os.makedirs(os.path.dirname(destination_path), exist_ok=True)\n",
    "        shutil.copyfile(image_path, destination_path)"
   ]
  }
 ],
 "metadata": {
  "kernelspec": {
   "display_name": "SC4000",
   "language": "python",
   "name": "python3"
  },
  "language_info": {
   "codemirror_mode": {
    "name": "ipython",
    "version": 3
   },
   "file_extension": ".py",
   "mimetype": "text/x-python",
   "name": "python",
   "nbconvert_exporter": "python",
   "pygments_lexer": "ipython3",
   "version": "3.12.2"
  }
 },
 "nbformat": 4,
 "nbformat_minor": 2
}
