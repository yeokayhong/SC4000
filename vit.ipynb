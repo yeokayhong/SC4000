{
 "cells": [
  {
   "cell_type": "code",
   "execution_count": 1,
   "metadata": {},
   "outputs": [],
   "source": [
    "import os\n",
    "import time\n",
    "import torch\n",
    "import torch.nn as nn\n",
    "from torchvision import datasets, transforms\n",
    "from torchvision.models import vit_b_16, ViT_B_16_Weights\n",
    "from torch.utils.data import DataLoader\n",
    "from torch.utils.data.sampler import SubsetRandomSampler\n",
    "from sklearn.model_selection import KFold\n",
    "import pandas as pd"
   ]
  },
  {
   "cell_type": "code",
   "execution_count": 2,
   "metadata": {},
   "outputs": [],
   "source": [
    "# Paths\n",
    "train_data_directory = 'data/train'\n",
    "test_data_directory = 'data/test'\n",
    "weights_directory = 'weights'\n",
    "predictions_directory = 'predictions'\n",
    "\n",
    "# Ensure directories exist\n",
    "os.makedirs(weights_directory, exist_ok=True)\n",
    "os.makedirs(predictions_directory, exist_ok=True)\n",
    "\n",
    "# Model parameters\n",
    "model_name = 'vit_b_16'\n",
    "num_folds = 2 #5\n",
    "batch_size = 64  #32\n",
    "num_epochs = 1 #10\n",
    "learning_rate = 0.001\n",
    "\n",
    "# Device configuration\n",
    "device = torch.device('cuda' if torch.cuda.is_available() else 'cpu')"
   ]
  },
  {
   "cell_type": "code",
   "execution_count": 3,
   "metadata": {},
   "outputs": [],
   "source": [
    "data_transforms = transforms.Compose([\n",
    "    transforms.Resize((224, 224)),\n",
    "    transforms.ToTensor(),\n",
    "    # Normalize if pretrained weights expect it\n",
    "    transforms.Normalize([0.485, 0.456, 0.406],  # Mean for ImageNet\n",
    "                         [0.229, 0.224, 0.225])   # Std for ImageNet\n",
    "])"
   ]
  },
  {
   "cell_type": "code",
   "execution_count": 4,
   "metadata": {},
   "outputs": [],
   "source": [
    "# Load dataset from the specified directory\n",
    "full_dataset = datasets.ImageFolder(root=train_data_directory, transform=data_transforms)\n",
    "\n",
    "# Get class names and number of classes\n",
    "class_names = full_dataset.classes\n",
    "num_classes = len(class_names)"
   ]
  },
  {
   "cell_type": "code",
   "execution_count": 5,
   "metadata": {},
   "outputs": [],
   "source": [
    "kfold = KFold(n_splits=num_folds, shuffle=True)"
   ]
  },
  {
   "cell_type": "code",
   "execution_count": 6,
   "metadata": {},
   "outputs": [
    {
     "name": "stdout",
     "output_type": "stream",
     "text": [
      "Fold 1/2\n"
     ]
    },
    {
     "name": "stderr",
     "output_type": "stream",
     "text": [
      "c:\\Users\\nuket\\.conda\\envs\\SC4000\\lib\\site-packages\\torch\\nn\\functional.py:5560: UserWarning: 1Torch was not compiled with flash attention. (Triggered internally at C:\\cb\\pytorch_1000000000000\\work\\aten\\src\\ATen\\native\\transformers\\cuda\\sdp_utils.cpp:555.)\n",
      "  attn_output = scaled_dot_product_attention(q, k, v, attn_mask, dropout_p, is_causal)\n"
     ]
    }
   ],
   "source": [
    "# Initialize performance report list\n",
    "performance_reports = []\n",
    "\n",
    "# Create folder for weights and reports\n",
    "timestamp = time.strftime('%Y%m%d-%H%M%S')\n",
    "model_folder = os.path.join(weights_directory, f\"{model_name}_{timestamp}\")\n",
    "os.makedirs(model_folder, exist_ok=True)\n",
    "\n",
    "for fold, (train_idx, val_idx) in enumerate(kfold.split(full_dataset)):\n",
    "    print(f'Fold {fold+1}/{num_folds}')\n",
    "    \n",
    "    # Create data samplers\n",
    "    train_sampler = SubsetRandomSampler(train_idx)\n",
    "    val_sampler = SubsetRandomSampler(val_idx)\n",
    "    \n",
    "    # Create data loaders\n",
    "    train_loader = DataLoader(full_dataset, batch_size=batch_size, sampler=train_sampler)\n",
    "    val_loader = DataLoader(full_dataset, batch_size=batch_size, sampler=val_sampler)\n",
    "    \n",
    "    # Initialize the model\n",
    "    model = vit_b_16(weights=ViT_B_16_Weights.DEFAULT)\n",
    "    model.heads.head = nn.Linear(model.heads.head.in_features, num_classes)\n",
    "    model = model.to(device)\n",
    "    \n",
    "    # Define loss function and optimizer\n",
    "    criterion = nn.CrossEntropyLoss()\n",
    "    optimizer = torch.optim.Adam(model.parameters(), lr=learning_rate)\n",
    "    \n",
    "    # Training loop\n",
    "    for epoch in range(num_epochs):\n",
    "        model.train()\n",
    "        train_loss = 0.0\n",
    "        \n",
    "        for images, labels in train_loader:\n",
    "            images, labels = images.to(device), labels.to(device)\n",
    "            \n",
    "            # Forward pass\n",
    "            outputs = model(images)\n",
    "            loss = criterion(outputs, labels)\n",
    "            \n",
    "            # Backward and optimize\n",
    "            optimizer.zero_grad()\n",
    "            loss.backward()\n",
    "            optimizer.step()\n",
    "            \n",
    "            train_loss += loss.item()\n",
    "        \n",
    "        # Validation loop\n",
    "        model.eval()\n",
    "        val_loss = 0.0\n",
    "        correct = 0\n",
    "        total = 0\n",
    "        \n",
    "        with torch.no_grad():\n",
    "            for images, labels in val_loader:\n",
    "                images, labels = images.to(device), labels.to(device)\n",
    "                outputs = model(images)\n",
    "                loss = criterion(outputs, labels)\n",
    "                val_loss += loss.item()\n",
    "                \n",
    "                _, predicted = torch.max(outputs.data, 1)\n",
    "                total += labels.size(0)\n",
    "                correct += (predicted == labels).sum().item()\n",
    "        \n",
    "        # Compute average losses and accuracy\n",
    "        avg_train_loss = train_loss / len(train_loader)\n",
    "        avg_val_loss = val_loss / len(val_loader)\n",
    "        accuracy = 100 * correct / total\n",
    "        \n",
    "        print(f'Epoch [{epoch+1}/{num_epochs}], '\n",
    "              f'Train Loss: {avg_train_loss:.4f}, '\n",
    "              f'Val Loss: {avg_val_loss:.4f}, '\n",
    "              f'Accuracy: {accuracy:.2f}%')\n",
    "    \n",
    "    # Save performance metrics\n",
    "    performance_reports.append({\n",
    "        'Fold': fold + 1,\n",
    "        'Train Loss': avg_train_loss,\n",
    "        'Validation Loss': avg_val_loss,\n",
    "        'Accuracy': accuracy\n",
    "    })\n",
    "    \n",
    "    # Save model weights\n",
    "    weights_path = os.path.join(model_folder, 'model_weights.pth')\n",
    "    torch.save(model.state_dict(), weights_path)\n",
    "    \n",
    "    # Save performance report\n",
    "    report_df = pd.DataFrame([performance_reports[-1]])\n",
    "    report_path = os.path.join(model_folder, 'performance_report.csv')\n",
    "    report_df.to_csv(report_path, index=False)"
   ]
  },
  {
   "cell_type": "code",
   "execution_count": null,
   "metadata": {},
   "outputs": [],
   "source": [
    "# Convert performance reports to DataFrame\n",
    "overall_performance_df = pd.DataFrame(performance_reports)\n",
    "\n",
    "# Save to CSV\n",
    "overall_report_path = os.path.join(weights_directory, f\"{model_name}_{timestamp}_overall_performance.csv\")\n",
    "overall_performance_df.to_csv(overall_report_path, index=False)\n",
    "\n",
    "# Display overall performance\n",
    "print(\"\\nOverall Performance:\")\n",
    "print(overall_performance_df)"
   ]
  },
  {
   "cell_type": "code",
   "execution_count": null,
   "metadata": {},
   "outputs": [],
   "source": [
    "# Load test dataset\n",
    "test_dataset = datasets.ImageFolder(root=test_data_directory, transform=data_transforms)\n",
    "test_loader = DataLoader(test_dataset, batch_size=batch_size, shuffle=False)\n",
    "\n",
    "# Use the last trained model for predictions\n",
    "model.eval()\n",
    "test_predictions = []\n",
    "image_paths = []\n",
    "\n",
    "with torch.no_grad():\n",
    "    for images, _ in test_loader:\n",
    "        images = images.to(device)\n",
    "        outputs = model(images)\n",
    "        _, preds = torch.max(outputs.data, 1)\n",
    "        test_predictions.extend(preds.cpu().numpy())\n",
    "        image_paths.extend([path for path, _ in test_loader.dataset.samples])\n",
    "\n",
    "# Save test predictions to CSV\n",
    "test_predictions_df = pd.DataFrame({\n",
    "    'ImagePath': image_paths,\n",
    "    'PredictedClass': test_predictions\n",
    "})\n",
    "test_predictions_filename = f\"{model_name}_{timestamp}_test_predictions.csv\"\n",
    "test_predictions_path = os.path.join(predictions_directory, test_predictions_filename)\n",
    "test_predictions_df.to_csv(test_predictions_path, index=False)"
   ]
  }
 ],
 "metadata": {
  "kernelspec": {
   "display_name": "base",
   "language": "python",
   "name": "python3"
  },
  "language_info": {
   "codemirror_mode": {
    "name": "ipython",
    "version": 3
   },
   "file_extension": ".py",
   "mimetype": "text/x-python",
   "name": "python",
   "nbconvert_exporter": "python",
   "pygments_lexer": "ipython3",
   "version": "3.10.14"
  }
 },
 "nbformat": 4,
 "nbformat_minor": 2
}
