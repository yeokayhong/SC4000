{
 "cells": [
  {
   "cell_type": "code",
   "execution_count": 1,
   "metadata": {},
   "outputs": [],
   "source": [
    "from torchvision.models import vit_h_14, ViT_H_14_Weights\n",
    "from sklearn.utils import compute_class_weight\n",
    "from torchvision import datasets, transforms\n",
    "from torch.amp import autocast, GradScaler\n",
    "from sklearn.model_selection import KFold\n",
    "from torch.utils.data import DataLoader\n",
    "from torchvision.transforms import v2\n",
    "from torch.optim import lr_scheduler\n",
    "from tqdm.notebook import tqdm\n",
    "import torch.nn as nn\n",
    "import pandas as pd\n",
    "import numpy as np\n",
    "import warnings\n",
    "import torch\n",
    "import time\n",
    "import os\n",
    "warnings.filterwarnings(\"ignore\", message=\".*flash attention.*\")"
   ]
  },
  {
   "cell_type": "code",
   "execution_count": 2,
   "metadata": {},
   "outputs": [],
   "source": [
    "train_data_directory = 'data/train'\n",
    "test_data_directory = 'data/test'\n",
    "weights_directory = 'weights'\n",
    "predictions_directory = 'predictions'\n",
    "\n",
    "os.makedirs(weights_directory, exist_ok=True)\n",
    "os.makedirs(predictions_directory, exist_ok=True)\n",
    "\n",
    "model_name = 'vit_h_14'\n",
    "model_image_width = 518\n",
    "num_folds = 5\n",
    "batch_size = 1\n",
    "num_epochs = 4\n",
    "learning_rate = 0.000001\n",
    "\n",
    "device = torch.device('cuda' if torch.cuda.is_available() else 'cpu')"
   ]
  },
  {
   "cell_type": "code",
   "execution_count": 4,
   "metadata": {},
   "outputs": [],
   "source": [
    "train_transforms = transforms.Compose([\n",
    "    v2.CenterCrop(800),\n",
    "    v2.RandomHorizontalFlip(),\n",
    "    v2.RandomVerticalFlip(),\n",
    "    v2.RandomRotation(10),\n",
    "    v2.ColorJitter(brightness=0.2, contrast=0.2, saturation=0.2),\n",
    "    v2.GaussianNoise(),\n",
    "    v2.Resize((model_image_width, model_image_width)),\n",
    "    v2.ToImage(),\n",
    "    v2.ToDtype(torch.float32, scale=True),\n",
    "    v2.Normalize([0.5, 0.5, 0.5], [0.5, 0.5, 0.5])\n",
    "])"
   ]
  },
  {
   "cell_type": "code",
   "execution_count": 5,
   "metadata": {},
   "outputs": [],
   "source": [
    "val_transforms = transforms.Compose([\n",
    "    v2.CenterCrop(800),\n",
    "    v2.Resize((model_image_width, model_image_width)),\n",
    "    v2.ToImage(),\n",
    "    v2.ToDtype(torch.float32, scale=True),\n",
    "    v2.Normalize([0.5, 0.5, 0.5], [0.5, 0.5, 0.5])\n",
    "])"
   ]
  },
  {
   "cell_type": "code",
   "execution_count": null,
   "metadata": {},
   "outputs": [],
   "source": [
    "full_dataset = datasets.ImageFolder(root=train_data_directory)\n",
    "\n",
    "class_names = full_dataset.classes\n",
    "num_classes = len(class_names)\n",
    "\n",
    "timestamp = time.strftime('%Y%m%d-%H%M%S')\n",
    "model_folder = os.path.join(weights_directory, f\"{model_name}_{timestamp}\")\n",
    "os.makedirs(model_folder, exist_ok=True)\n",
    "\n",
    "performance_reports = []\n",
    "report_path = os.path.join(model_folder, 'performance_report.csv')\n",
    "\n",
    "kfold = KFold(n_splits=num_folds, shuffle=True)"
   ]
  },
  {
   "cell_type": "code",
   "execution_count": 7,
   "metadata": {},
   "outputs": [
    {
     "data": {
      "application/vnd.jupyter.widget-view+json": {
       "model_id": "f5a394fe34514f7c8878d5c71e9acda3",
       "version_major": 2,
       "version_minor": 0
      },
      "text/plain": [
       "Training Epoch 1/4:   0%|          | 0/18880 [00:00<?, ?it/s]"
      ]
     },
     "metadata": {},
     "output_type": "display_data"
    },
    {
     "data": {
      "application/vnd.jupyter.widget-view+json": {
       "model_id": "7dff6a4b1aca47cfb8c4f141402d35b9",
       "version_major": 2,
       "version_minor": 0
      },
      "text/plain": [
       "Validation Epoch 1/4:   0%|          | 0/4721 [00:00<?, ?it/s]"
      ]
     },
     "metadata": {},
     "output_type": "display_data"
    },
    {
     "name": "stdout",
     "output_type": "stream",
     "text": [
      "Epoch [1/4], Train Loss: 0.3984, Val Loss: 0.3312, Accuracy: 88.77% Time elapsed: 56422.71 seconds\n"
     ]
    },
    {
     "data": {
      "application/vnd.jupyter.widget-view+json": {
       "model_id": "d5f6c94ca8cd44a0a884d95c169e06d5",
       "version_major": 2,
       "version_minor": 0
      },
      "text/plain": [
       "Training Epoch 2/4:   0%|          | 0/18880 [00:00<?, ?it/s]"
      ]
     },
     "metadata": {},
     "output_type": "display_data"
    }
   ],
   "source": [
    "start_time = time.time()\n",
    "for fold, (train_idx, val_idx) in enumerate(kfold.split(full_dataset)):\n",
    "    model = vit_h_14(weights=ViT_H_14_Weights.DEFAULT)\n",
    "    model.heads.head = nn.Linear(model.heads.head.in_features, num_classes)\n",
    "    model = model.to(device)\n",
    "\n",
    "    train_subset = torch.utils.data.Subset(full_dataset, train_idx)\n",
    "    val_subset = torch.utils.data.Subset(full_dataset, val_idx)\n",
    "\n",
    "    train_subset.dataset.transform = train_transforms\n",
    "    val_subset.dataset.transform = val_transforms\n",
    "\n",
    "    train_loader = DataLoader(train_subset, batch_size=batch_size, shuffle=True)\n",
    "    val_loader = DataLoader(val_subset, batch_size=batch_size, shuffle=False)\n",
    "\n",
    "    train_labels = [train_subset.dataset.targets[i] for i in train_subset.indices]\n",
    "    class_weights = compute_class_weight('balanced', classes=np.unique(train_labels), y=train_labels)\n",
    "    class_weights = torch.tensor(class_weights, dtype=torch.float).to(device)\n",
    "    \n",
    "    criterion = nn.CrossEntropyLoss(weight=class_weights)\n",
    "    optimizer = torch.optim.Adam(model.parameters(), lr=learning_rate)\n",
    "    scheduler = lr_scheduler.CosineAnnealingWarmRestarts(optimizer, 4)\n",
    "    scaler = GradScaler()\n",
    "\n",
    "    # Training loop\n",
    "    for epoch in range(num_epochs):\n",
    "        model.train()\n",
    "        train_loss = 0.0\n",
    "        \n",
    "        for index, (images, labels) in enumerate(tqdm(train_loader, desc=f'Training Epoch {epoch+1}/{num_epochs}')):\n",
    "            images, labels = images.to(device), labels.to(device)\n",
    "            \n",
    "            # Forward pass\n",
    "            with autocast(\"cuda\"):\n",
    "                outputs = model(images)\n",
    "                loss = criterion(outputs, labels)\n",
    "            \n",
    "            # Backward and optimize\n",
    "            optimizer.zero_grad()\n",
    "            \n",
    "            scaler.scale(loss).backward()\n",
    "            scaler.step(optimizer)\n",
    "            scaler.update()\n",
    "            scheduler.step(epoch +  index / len(train_loader))\n",
    "            \n",
    "            train_loss += loss.item()\n",
    "        \n",
    "        # Validation loop\n",
    "        model.eval()\n",
    "        val_loss = 0.0\n",
    "        correct = 0\n",
    "        total = 0\n",
    "        \n",
    "        with torch.no_grad():\n",
    "            for images, labels in tqdm(val_loader, desc=f'Validation Epoch {epoch+1}/{num_epochs}'):\n",
    "                images, labels = images.to(device), labels.to(device)\n",
    "\n",
    "                with autocast(\"cuda\"):\n",
    "                    outputs = model(images)\n",
    "                    loss = criterion(outputs, labels)\n",
    "                    val_loss += loss.item()\n",
    "                \n",
    "                    _, predictions = torch.max(outputs, 1)\n",
    "                    total += labels.size(0)\n",
    "                    correct += (predictions == labels).sum().item()\n",
    "        \n",
    "        avg_train_loss = train_loss / len(train_loader)\n",
    "        avg_val_loss = val_loss / len(val_loader)\n",
    "        accuracy = 100 * correct / total\n",
    "        time_elapsed = time.time() - start_time\n",
    "        \n",
    "        print(f'Epoch [{epoch+1}/{num_epochs}], '\n",
    "              f'Train Loss: {avg_train_loss:.4f}, '\n",
    "              f'Val Loss: {avg_val_loss:.4f}, '\n",
    "              f'Accuracy: {accuracy:.2f}% '\n",
    "              f'Time elapsed: {time_elapsed:.2f} seconds')\n",
    "        \n",
    "        performance_reports.append({\n",
    "            'Batch Size': batch_size,\n",
    "            'Fold': fold + 1,\n",
    "            'Epoch': epoch + 1,\n",
    "            'LR': scheduler.get_last_lr()[0],\n",
    "            'Train Loss': avg_train_loss,\n",
    "            'Validation Loss': avg_val_loss,\n",
    "            'Accuracy': accuracy,\n",
    "            'Time Elapsed': time_elapsed\n",
    "        })\n",
    "\n",
    "        report_df = pd.DataFrame(performance_reports)\n",
    "        report_df.to_csv(report_path, index=False)\n",
    "    \n",
    "    weights_path = os.path.join(model_folder, f'model_weights_{fold + 1}.pth')\n",
    "    torch.save(model.state_dict(), weights_path)"
   ]
  },
  {
   "cell_type": "code",
   "execution_count": 8,
   "metadata": {},
   "outputs": [
    {
     "data": {
      "application/vnd.jupyter.widget-view+json": {
       "model_id": "a59ece2bef104e6bba7b86792fae6f07",
       "version_major": 2,
       "version_minor": 0
      },
      "text/plain": [
       "Test:   0%|          | 0/2619 [00:00<?, ?it/s]"
      ]
     },
     "metadata": {},
     "output_type": "display_data"
    }
   ],
   "source": [
    "test_dataset = datasets.ImageFolder(root=test_data_directory, transform=val_transforms)\n",
    "test_loader = DataLoader(test_dataset, batch_size=batch_size, shuffle=False)\n",
    "idx_to_class = {v: k for k, v in test_loader.dataset.class_to_idx.items()}\n",
    "\n",
    "model.eval()\n",
    "test_predictions = []\n",
    "image_paths = []\n",
    "\n",
    "with torch.no_grad():\n",
    "    for images, batch_indices in tqdm(test_loader, desc='Test'):\n",
    "        images = images.to(device)\n",
    "        outputs = model(images)\n",
    "        _, predictions = torch.max(outputs, 1)\n",
    "        labels = [idx_to_class[prediction] for prediction in predictions.cpu().numpy()]\n",
    "        test_predictions.extend(labels)\n",
    "        image_paths.extend([test_loader.dataset.samples[idx][0] for idx in batch_indices])"
   ]
  },
  {
   "cell_type": "code",
   "execution_count": 9,
   "metadata": {},
   "outputs": [],
   "source": [
    "test_predictions_df = pd.DataFrame({\n",
    "    'Image': [path.split('\\\\')[-1] for path in image_paths],\n",
    "    'ImagePath': image_paths,\n",
    "    'PredictedClass': test_predictions,\n",
    "    'ActualClass': [path.split('\\\\')[-2] for path in image_paths]\n",
    "})\n",
    "test_predictions_filename = f\"{model_name}_{timestamp}_test_predictions.csv\"\n",
    "test_predictions_path = os.path.join(predictions_directory, test_predictions_filename)\n",
    "test_predictions_df.to_csv(test_predictions_path, index=False)"
   ]
  }
 ],
 "metadata": {
  "kernelspec": {
   "display_name": "base",
   "language": "python",
   "name": "python3"
  },
  "language_info": {
   "codemirror_mode": {
    "name": "ipython",
    "version": 3
   },
   "file_extension": ".py",
   "mimetype": "text/x-python",
   "name": "python",
   "nbconvert_exporter": "python",
   "pygments_lexer": "ipython3",
   "version": "3.10.14"
  }
 },
 "nbformat": 4,
 "nbformat_minor": 2
}
